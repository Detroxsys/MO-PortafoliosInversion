{
 "cells": [
  {
   "attachments": {},
   "cell_type": "markdown",
   "metadata": {},
   "source": [
    "## Sección de Librerías"
   ]
  },
  {
   "cell_type": "code",
   "execution_count": null,
   "metadata": {},
   "outputs": [],
   "source": [
    "#Básicos para manipulacion de datos \n",
    "import pandas as pd\n",
    "import numpy as np\n",
    "#Graficas \n",
    "import matplotlib.pyplot as plt\n",
    "import seaborn as sns\n",
    "sns.set_theme()\n",
    "#Optimización multiobjetivo \n",
    "from pymoo.util.ref_dirs import get_reference_directions\n",
    "from pymoo.optimize import minimize\n",
    "from pymoo.core.population import Population\n",
    "\n",
    "#Finanzas \n",
    "import yfinance as yf\n",
    "import yesg\n",
    "import pypfopt\n",
    "from pypfopt import EfficientFrontier,plotting\n",
    "\n",
    "#Plugins\n",
    "from tqdm import tqdm\n",
    "from itertools import compress\n",
    "from Plugins import pre_processing\n",
    "from Plugins import ArchievingStrategies\n",
    "from Plugins import my_plotting\n",
    "from Plugins import pymoo_extras"
   ]
  },
  {
   "cell_type": "code",
   "execution_count": 3,
   "metadata": {},
   "outputs": [
    {
     "name": "stdout",
     "output_type": "stream",
     "text": [
      "[*********************100%***********************]  4 of 4 completed\n"
     ]
    },
    {
     "name": "stderr",
     "output_type": "stream",
     "text": [
      "c:\\Users\\yeudi\\AppData\\Local\\Programs\\Python\\Python310\\lib\\site-packages\\finquant\\portfolio.py:260: FutureWarning: The frame.append method is deprecated and will be removed from pandas in a future version. Use pandas.concat instead.\n",
      "  self.portfolio = self.portfolio.append(stock.investmentinfo, ignore_index=True)\n",
      "c:\\Users\\yeudi\\AppData\\Local\\Programs\\Python\\Python310\\lib\\site-packages\\finquant\\portfolio.py:260: FutureWarning: The frame.append method is deprecated and will be removed from pandas in a future version. Use pandas.concat instead.\n",
      "  self.portfolio = self.portfolio.append(stock.investmentinfo, ignore_index=True)\n",
      "c:\\Users\\yeudi\\AppData\\Local\\Programs\\Python\\Python310\\lib\\site-packages\\finquant\\portfolio.py:260: FutureWarning: The frame.append method is deprecated and will be removed from pandas in a future version. Use pandas.concat instead.\n",
      "  self.portfolio = self.portfolio.append(stock.investmentinfo, ignore_index=True)\n",
      "c:\\Users\\yeudi\\AppData\\Local\\Programs\\Python\\Python310\\lib\\site-packages\\finquant\\portfolio.py:260: FutureWarning: The frame.append method is deprecated and will be removed from pandas in a future version. Use pandas.concat instead.\n",
      "  self.portfolio = self.portfolio.append(stock.investmentinfo, ignore_index=True)\n"
     ]
    }
   ],
   "source": [
    "from finquant.portfolio import build_portfolio\n",
    "names = ['GOOG', 'AMZN', 'MCD', 'DIS']\n",
    "pf = build_portfolio(names=names, data_api=\"yfinance\")"
   ]
  },
  {
   "cell_type": "code",
   "execution_count": 10,
   "metadata": {},
   "outputs": [
    {
     "data": {
      "text/html": [
       "<div>\n",
       "<style scoped>\n",
       "    .dataframe tbody tr th:only-of-type {\n",
       "        vertical-align: middle;\n",
       "    }\n",
       "\n",
       "    .dataframe tbody tr th {\n",
       "        vertical-align: top;\n",
       "    }\n",
       "\n",
       "    .dataframe thead th {\n",
       "        text-align: right;\n",
       "    }\n",
       "</style>\n",
       "<table border=\"1\" class=\"dataframe\">\n",
       "  <thead>\n",
       "    <tr style=\"text-align: right;\">\n",
       "      <th></th>\n",
       "      <th>Expected Return</th>\n",
       "      <th>Volatility</th>\n",
       "      <th>Sharpe Ratio</th>\n",
       "    </tr>\n",
       "  </thead>\n",
       "  <tbody>\n",
       "    <tr>\n",
       "      <th>Min Volatility</th>\n",
       "      <td>0.207991</td>\n",
       "      <td>0.226719</td>\n",
       "      <td>0.895342</td>\n",
       "    </tr>\n",
       "    <tr>\n",
       "      <th>Max Sharpe Ratio</th>\n",
       "      <td>0.271902</td>\n",
       "      <td>0.261812</td>\n",
       "      <td>1.019443</td>\n",
       "    </tr>\n",
       "  </tbody>\n",
       "</table>\n",
       "</div>"
      ],
      "text/plain": [
       "                  Expected Return  Volatility  Sharpe Ratio\n",
       "Min Volatility           0.207991    0.226719      0.895342\n",
       "Max Sharpe Ratio         0.271902    0.261812      1.019443"
      ]
     },
     "execution_count": 10,
     "metadata": {},
     "output_type": "execute_result"
    }
   ],
   "source": [
    "opt_res"
   ]
  },
  {
   "cell_type": "code",
   "execution_count": 8,
   "metadata": {},
   "outputs": [
    {
     "name": "stderr",
     "output_type": "stream",
     "text": [
      "c:\\Users\\yeudi\\AppData\\Local\\Programs\\Python\\Python310\\lib\\site-packages\\finquant\\monte_carlo.py:37: VisibleDeprecationWarning: Creating an ndarray from ragged nested sequences (which is a list-or-tuple of lists-or-tuples-or ndarrays with different lengths or shapes) is deprecated. If you meant to do this, you must specify 'dtype=object' when creating the ndarray.\n",
      "  return np.asarray(result)\n"
     ]
    },
    {
     "data": {
      "image/png": "[encoded data removed]",
      "text/plain": [
       "<Figure size 432x288 with 1 Axes>"
      ]
     },
     "metadata": {
      "needs_background": "light"
     },
     "output_type": "display_data"
    }
   ],
   "source": [
    "# Monte Carlo optimisation\n",
    "opt_w, opt_res = pf.mc_optimisation(num_trials=5000)\n",
    "#pf.mc_plot_results()\n",
    "# minimisation to compute efficient frontier and optimal portfolios along it\n",
    "pf.ef_plot_efrontier()\n",
    "#pf.ef.plot_optimal_portfolios()\n",
    "# plotting individual stocks\n",
    "#pf.plot_stocks()"
   ]
  }
 ],
 "metadata": {
  "kernelspec": {
   "display_name": "Python 3",
   "language": "python",
   "name": "python3"
  },
  "language_info": {
   "codemirror_mode": {
    "name": "ipython",
    "version": 3
   },
   "file_extension": ".py",
   "mimetype": "text/x-python",
   "name": "python",
   "nbconvert_exporter": "python",
   "pygments_lexer": "ipython3",
   "version": "3.10.8"
  },
  "orig_nbformat": 4
 },
 "nbformat": 4,
 "nbformat_minor": 2
}
